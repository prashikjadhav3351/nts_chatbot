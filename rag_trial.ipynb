{
 "cells": [
  {
   "cell_type": "code",
   "execution_count": 3,
   "metadata": {},
   "outputs": [],
   "source": [
    "from langchain.memory import ConversationSummaryMemory, ConversationBufferMemory\n",
    "import sqlite3\n",
    "import pandas as pd\n",
    "import os \n",
    "from langchain_groq import ChatGroq\n",
    "from dotenv import load_dotenv\n",
    "from langchain.prompts import PromptTemplate\n",
    "from textwrap import dedent\n",
    "from langchain.schema import SystemMessage ,HumanMessage,AIMessage\n",
    "from langchain.chains.conversation.base import ConversationChain\n",
    "import json\n",
    "from langchain.chat_models import ChatOpenAI\n",
    "import os\n",
    "# import chromadb\n",
    "from langchain_chroma import Chroma\n",
    "from PyPDF2 import PdfReader\n",
    "from langchain_community.document_loaders import PyPDFLoader\n",
    "from langchain_openai import OpenAIEmbeddings\n",
    "from langchain.text_splitter import RecursiveCharacterTextSplitter\n",
    "import openai\n",
    "from uuid import uuid4"
   ]
  },
  {
   "cell_type": "code",
   "execution_count": 4,
   "metadata": {},
   "outputs": [],
   "source": [
    "load_dotenv()\n",
    "#---- Set OpenAI API key \n",
    "# Change environment variable name from \"OPENAI_API_KEY\" to the name given in \n",
    "# your .env file.\n",
    "openai.api_key = os.environ['OPENAI_API_KEY']\n",
    "# api = os.environ['OPENAI_API_KEY']\n",
    "# os.environ['LANGCHAIN_TRACING_V2'] = \"true\"\n",
    "# os.environ['LANGCHAIN_API_KEY'] = os.getenv(\"LANGCHAIN_API_KEY\")\n",
    "# os.environ[\"LANGCHAIN_PROJECT\"] = os.getenv(\"LANGCHAIN_PROJECT\")"
   ]
  },
  {
   "cell_type": "code",
   "execution_count": 5,
   "metadata": {},
   "outputs": [],
   "source": [
    "\n",
    "embeddings = OpenAIEmbeddings(\n",
    "    model=\"text-embedding-ada-002\"\n",
    ")"
   ]
  },
  {
   "cell_type": "code",
   "execution_count": 7,
   "metadata": {},
   "outputs": [],
   "source": [
    "\n",
    "vector_store = Chroma(\n",
    "    collection_name=\"website\",\n",
    "    embedding_function=embeddings,\n",
    "    persist_directory=\"Database/db/chroma_langchain_db\",  # Where to save data locally\n",
    ")"
   ]
  },
  {
   "cell_type": "code",
   "execution_count": 8,
   "metadata": {},
   "outputs": [],
   "source": [
    "def ingest_file(file_path):\n",
    "    # Skip non-PDF files\n",
    "    if not file_path.lower().endswith('.pdf'):\n",
    "        print(f\"Skipping non-PDF file: {file_path}\")\n",
    "        return\n",
    "    \n",
    "    print(f\"Starting to ingest file: {file_path}\")\n",
    "    loader = PyPDFLoader(file_path)\n",
    "    loaded_documents = loader.load()\n",
    "    text_splitter = RecursiveCharacterTextSplitter(\n",
    "        chunk_size=600, chunk_overlap=200, separators=[\"\\n\", \" \", \"\"]\n",
    "    )\n",
    "    documents = text_splitter.split_documents(loaded_documents)\n",
    "    uuids = [str(uuid4()) for _ in range(len(documents))]\n",
    "    print(f\"Adding {len(documents)} documents to the vector store\")\n",
    "    vector_store.add_documents(documents=documents, ids=uuids)\n",
    "    print(f\"Finished ingesting file: {file_path}\")"
   ]
  },
  {
   "cell_type": "markdown",
   "metadata": {},
   "source": []
  },
  {
   "cell_type": "code",
   "execution_count": 9,
   "metadata": {},
   "outputs": [
    {
     "name": "stdout",
     "output_type": "stream",
     "text": [
      "Starting to ingest file: Database\\nts.pdf\n",
      "Adding 39 documents to the vector store\n",
      "Finished ingesting file: Database\\nts.pdf\n"
     ]
    }
   ],
   "source": [
    "ingest_file(r'Database\\nts.pdf')"
   ]
  },
  {
   "cell_type": "code",
   "execution_count": 10,
   "metadata": {},
   "outputs": [
    {
     "data": {
      "text/plain": [
       "[(Document(id='431cf63f-6b64-408a-95fb-2374149ec69f', metadata={'page': 0, 'source': 'Database\\\\nts.pdf'}, page_content='industry\\n \\nprofessionals\\n \\nwith\\n \\nthe\\n \\nknowledge\\n \\nand\\n \\ntools\\n \\nthey\\n \\nneed\\n \\nto\\n \\nthrive,\\n \\nwhile\\n \\nalso\\n \\nimproving\\n \\nbusiness\\n \\nproductivity\\n \\nthrough\\n \\nthe\\n \\napplication\\n \\nof\\n \\nadvanced,\\n \\ncutting-edge\\n \\ntechnology\\n \\nincluding\\n \\nAI\\n \\nand\\n \\nML.\\n  \\nVisit\\n:\\n “https://www.neuraltechsoft.com/index.html”  \\n \\n2.2  Vision:  \\nOur  vision  is  to  develop  sophisticated,  practical  analytics  that  empower  business  \\nfunctions\\n \\nand\\n \\nrisk\\n \\nmanagement\\n \\nto\\n \\nachieve\\n \\ngreater\\n \\ncompetencies,\\n \\nleveraging\\n \\nour\\n \\nexcellent\\n \\ndomain\\n \\nexpertise\\n \\nto\\n \\ndeliver\\n \\nleading-edge\\n \\nadvisory\\n \\nand'),\n",
       "  0.6816378699256085),\n",
       " (Document(id='9d60a1ee-31b6-4df0-b2b2-db6cdac75d7c', metadata={'page': 0, 'source': 'Database\\\\nts.pdf'}, page_content='industry\\n \\nprofessionals\\n \\nwith\\n \\nthe\\n \\nknowledge\\n \\nand\\n \\ntools\\n \\nthey\\n \\nneed\\n \\nto\\n \\nthrive,\\n \\nwhile\\n \\nalso\\n \\nimproving\\n \\nbusiness\\n \\nproductivity\\n \\nthrough\\n \\nthe\\n \\napplication\\n \\nof\\n \\nadvanced,\\n \\ncutting-edge\\n \\ntechnology\\n \\nincluding\\n \\nAI\\n \\nand\\n \\nML.\\n  \\nVisit\\n:\\n “https://www.neuraltechsoft.com/index.html”  \\n \\n2.2  Vision:  \\nOur  vision  is  to  develop  sophisticated,  practical  analytics  that  empower  business  \\nfunctions\\n \\nand\\n \\nrisk\\n \\nmanagement\\n \\nto\\n \\nachieve\\n \\ngreater\\n \\ncompetencies,\\n \\nleveraging\\n \\nour\\n \\nexcellent\\n \\ndomain\\n \\nexpertise\\n \\nto\\n \\ndeliver\\n \\nleading-edge\\n \\nadvisory\\n \\nand'),\n",
       "  0.6816378699256085),\n",
       " (Document(id='01a3d454-6dca-44f7-9a4c-073a620ac6dd', metadata={'page': 3, 'source': 'Database\\\\nts.pdf'}, page_content='5.  Services  Provided  By  NeuraltechSoft     Visit  :  “https://www.neuraltechsoft.com/service.html”  \\n5.1  Algo  Trading:  Algorithmic  trading  uses  automated  systems  to  execute  \\ntrades\\n \\nbased\\n \\non\\n \\npredefined\\n \\nrules.\\n \\nIt\\n \\nenhances\\n \\nefficiency\\n \\nand\\n \\nspeed\\n \\nin\\n \\nresponding\\n to  market  changes. Visit :  “https://www.neuraltechsoft.com/algotrading.html”  \\n5.2  Financial  Consulting:  Our  financial  consulting  services  help  businesses  \\noptimize\\n \\nstrategies\\n \\nin\\n \\ntreasury\\n \\nmanagement,\\n \\nportfolio\\n \\noptimization,\\n \\nand\\n \\nrisk\\n \\nmanagement.\\n \\nBy\\n \\nimproving\\n \\nliquidity,'),\n",
       "  0.6761009806710879)]"
      ]
     },
     "execution_count": 10,
     "metadata": {},
     "output_type": "execute_result"
    }
   ],
   "source": [
    "retrive = vector_store.similarity_search_with_relevance_scores('whats your services',k=3)\n",
    "retrive"
   ]
  },
  {
   "cell_type": "code",
   "execution_count": 19,
   "metadata": {},
   "outputs": [
    {
     "name": "stdout",
     "output_type": "stream",
     "text": [
      "['solutions, exceeding expectations, and fostering long-term client relationships. Visit: https://www.neuraltechsoft.com/index.html\\n2. Mission and Vision\\n2.1 Mission:\\nOur mission is to enhance the efficiency of the financial sector by equipping industry professionals with the\\nknowledge and tools they need to thrive, while also improving business productivity through the application of\\nadvanced, cutting-edge technology including AI and ML. Visit: https://www.neuraltechsoft.com/index.html\\n2.2 Vision:', 'customer experiences, and foster growth.Visit: https://neuraltechsoft.com/solutions_ai_ml.html\\n5.5 Treasury Management:\\nAt Neural TechSoft, we offer treasury management solutions to optimize cash flow, manage liquidity, and mitigate\\nrisks. Our services enhance financial stability with customized strategies for cash management, investment, and\\nhedging, ensuring efficient operations and long-term success.Visit: https://www.neuraltechsoft.com/tressury_management.html\\n6. Key Projects', 'advanced, cutting-edge technology including AI and ML. Visit: https://www.neuraltechsoft.com/index.html\\n2.2 Vision:\\nOur vision is to develop sophisticated, practical analytics that empower business functions and risk management to\\nachieve greater competencies, leveraging our excellent domain expertise to deliver leading-edge advisory and\\ntechnological solutions. Visit: https://www.neuraltechsoft.com/index.html\\n3. Key Achievements\\n3.1 Industry Experience: 24+ years\\n3.2 Projects Completed: 150\\n3.3 Happy Clients: 30 Visit: https://www.neuraltechsoft.com/index.html', '5.1 Algo Trading:\\nAlgorithmic trading uses automated systems to execute trades based on predefined rules. It enhances efficiency and\\nspeed in responding to market changes.Visit: https://www.neuraltechsoft.com/algotrading.html\\n5.2 Financial Consulting:\\nOur financial consulting services help businesses optimize strategies in treasury management, portfolio optimization,\\nand risk management. By improving liquidity, cash flow, and investment strategies, we deliver AI-driven insights for', 'Neural Technologies & Software Pvt. Ltd. (NeuralTechSoft)\\n1. Company Overview of neuraltechsoft\\nNeural Technologies & Software Pvt. Ltd. (NeuralTechSoft), founded in October 2000, is an independent consulting\\nand training firm led by experts in financial analytics and IT consulting. With over 24 years of industry experience,\\n150 successful projects, and 30 satisfied clients, the company focuses on delivering high-quality, cost-effective\\nsolutions, exceeding expectations, and fostering long-term client relationships. Visit: https://www.neuraltechsoft.com/index.html\\n2. Mission and Vision', 'Company (DTCC) in Saudi Arabia to offer advanced solutions in Financial Consulting, Risk Management, and\\nAlgorithmic Trading. This collaboration combines regional expertise with technical strengths to drive digital\\ntransformation and help clients achieve sustainable growth. Visit : https://www.neuraltechsoft.com/partner.html\\n10. Careers at neuraltechsoft']\n"
     ]
    }
   ],
   "source": [
    "retrieved_content = [doc[0].page_content for doc in retrive]\n",
    "\n",
    "# Now you can pass `retrieved_content` to your model\n",
    "print(retrieved_content)\n"
   ]
  },
  {
   "cell_type": "code",
   "execution_count": 1,
   "metadata": {},
   "outputs": [
    {
     "name": "stdout",
     "output_type": "stream",
     "text": [
      "Database cleared successfully.\n"
     ]
    }
   ],
   "source": [
    "import shutil\n",
    "persist_directory = r\"Database\\db\\chroma_langchain_db\"\n",
    "\n",
    "# Delete the existing database directory\n",
    "shutil.rmtree(persist_directory, ignore_errors=True)\n",
    "print(\"Database cleared successfully.\")"
   ]
  },
  {
   "cell_type": "code",
   "execution_count": 2,
   "metadata": {},
   "outputs": [
    {
     "name": "stdout",
     "output_type": "stream",
     "text": [
      "No such database file found.\n"
     ]
    }
   ],
   "source": [
    "import os\n",
    "\n",
    "# Path to the Chroma SQLite database file\n",
    "sqlite_file_path = r\"Database/db/chroma_langchain_db/chroma.sqlite3\"\n",
    "\n",
    "# Check if the file exists and delete it\n",
    "if os.path.exists(sqlite_file_path):\n",
    "    os.remove(sqlite_file_path)\n",
    "    print(\"Chroma SQLite database deleted successfully.\")\n",
    "else:\n",
    "    print(\"No such database file found.\")\n"
   ]
  },
  {
   "cell_type": "code",
   "execution_count": 3,
   "metadata": {},
   "outputs": [],
   "source": [
    "from phi.agent import Agent\n",
    "from phi.model.groq import Groq\n",
    "groq_api_key = os.environ['GROQ_API_KEY']\n",
    "from phi.vectordb.chroma import ChromaDb\n",
    "from phi.agent import AgentKnowledge\n",
    "from phi.embedder.openai import OpenAIEmbedder"
   ]
  },
  {
   "cell_type": "code",
   "execution_count": 15,
   "metadata": {},
   "outputs": [],
   "source": [
    "embeddings = OpenAIEmbedder().get_embedding(\"Embed me\")"
   ]
  },
  {
   "cell_type": "code",
   "execution_count": 16,
   "metadata": {},
   "outputs": [],
   "source": [
    "\n",
    "vector_store = Chroma(\n",
    "    collection_name=\"documents\",\n",
    "    embedding_function=embeddings,\n",
    "    persist_directory=r\"Database/db/chroma_langchain_db\",  # Where to save data locally\n",
    ")"
   ]
  },
  {
   "cell_type": "code",
   "execution_count": 26,
   "metadata": {},
   "outputs": [],
   "source": [
    "knowledge_base = ChromaDb(collection='docuements',path=r\"D:\\LLAMA 3\\Database\\db\\chroma_langchain_db\\chroma.sqlite3\")\n",
    "knowedge_wrapper = AgentKnowledge(vector_db=knowledge_base)\n",
    "# knowedge_wrapper.load(recreate=True)\n"
   ]
  },
  {
   "cell_type": "code",
   "execution_count": 27,
   "metadata": {},
   "outputs": [],
   "source": [
    "rag_agent = Agent(model = Groq(id=\"llama-3.3-70b-versatile\"),knowledge_base=knowedge_wrapper,search_knowledge=True,add_context=True,markdown=True)"
   ]
  },
  {
   "cell_type": "code",
   "execution_count": 28,
   "metadata": {},
   "outputs": [
    {
     "data": {
      "application/vnd.jupyter.widget-view+json": {
       "model_id": "fd33c7e155a64724a47c6760810bd6ff",
       "version_major": 2,
       "version_minor": 0
      },
      "text/plain": [
       "Output()"
      ]
     },
     "metadata": {},
     "output_type": "display_data"
    },
    {
     "data": {
      "text/html": [
       "<pre style=\"white-space:pre;overflow-x:auto;line-height:normal;font-family:Menlo,'DejaVu Sans Mono',consolas,'Courier New',monospace\"><span style=\"color: #800000; text-decoration-color: #800000; font-weight: bold\">ERROR   </span> Error searching for documents: Collection docuements does not exist.                                      \n",
       "</pre>\n"
      ],
      "text/plain": [
       "\u001b[1;31mERROR   \u001b[0m Error searching for documents: Collection docuements does not exist.                                      \n"
      ]
     },
     "metadata": {},
     "output_type": "display_data"
    },
    {
     "data": {
      "text/html": [
       "<pre style=\"white-space:pre;overflow-x:auto;line-height:normal;font-family:Menlo,'DejaVu Sans Mono',consolas,'Courier New',monospace\"><span style=\"color: #800000; text-decoration-color: #800000; font-weight: bold\">ERROR   </span> Error searching for documents: Collection docuements does not exist.                                      \n",
       "</pre>\n"
      ],
      "text/plain": [
       "\u001b[1;31mERROR   \u001b[0m Error searching for documents: Collection docuements does not exist.                                      \n"
      ]
     },
     "metadata": {},
     "output_type": "display_data"
    },
    {
     "data": {
      "text/html": [
       "<pre style=\"white-space:pre;overflow-x:auto;line-height:normal;font-family:Menlo,'DejaVu Sans Mono',consolas,'Courier New',monospace\"></pre>\n"
      ],
      "text/plain": []
     },
     "metadata": {},
     "output_type": "display_data"
    }
   ],
   "source": [
    "rag_agent.print_response('food is stale',stream=False)"
   ]
  }
 ],
 "metadata": {
  "kernelspec": {
   "display_name": "Python 3",
   "language": "python",
   "name": "python3"
  },
  "language_info": {
   "codemirror_mode": {
    "name": "ipython",
    "version": 3
   },
   "file_extension": ".py",
   "mimetype": "text/x-python",
   "name": "python",
   "nbconvert_exporter": "python",
   "pygments_lexer": "ipython3",
   "version": "3.11.0"
  }
 },
 "nbformat": 4,
 "nbformat_minor": 2
}
